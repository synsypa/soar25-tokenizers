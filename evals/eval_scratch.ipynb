{
 "cells": [
  {
   "cell_type": "code",
   "execution_count": 2,
   "id": "2a02eb25",
   "metadata": {},
   "outputs": [],
   "source": [
    "import json"
   ]
  },
  {
   "cell_type": "code",
   "execution_count": 12,
   "id": "b411b2d9",
   "metadata": {},
   "outputs": [],
   "source": [
    "#with open(\"results/shikhar-srivastava__llama-130m-prenorm-train_c4_2B-tok_llama2/results_2025-08-22T20-28-50.715763.json\") as f:\n",
    "with open(\"results/shikhar-srivastava__llama-130m-prenorm-train_c4-2B-tok_t5base/results_2025-08-22T19-00-41.161061.json\") as f:\n",
    "    results_json = json.load(f)"
   ]
  },
  {
   "cell_type": "code",
   "execution_count": 13,
   "id": "5c2e01a5",
   "metadata": {},
   "outputs": [],
   "source": [
    "arithmetic = [\n",
    "    res[\"acc,none\"] for name,res in results_json['results'].items() if \"arithmetic\" in name\n",
    "]"
   ]
  },
  {
   "cell_type": "code",
   "execution_count": 14,
   "id": "6d5faa79",
   "metadata": {},
   "outputs": [
    {
     "data": {
      "text/plain": [
       "[0.006, 0.007, 0.022, 0.0125, 0.001, 0.0025, 0.0005, 0.0, 0.0, 0.0]"
      ]
     },
     "execution_count": 14,
     "metadata": {},
     "output_type": "execute_result"
    }
   ],
   "source": [
    "arithmetic"
   ]
  },
  {
   "cell_type": "code",
   "execution_count": 15,
   "id": "40d5c7f4",
   "metadata": {},
   "outputs": [
    {
     "data": {
      "text/plain": [
       "0.00515"
      ]
     },
     "execution_count": 15,
     "metadata": {},
     "output_type": "execute_result"
    }
   ],
   "source": [
    "sum(arithmetic) / len(arithmetic)"
   ]
  },
  {
   "cell_type": "code",
   "execution_count": 16,
   "id": "9dd07957",
   "metadata": {},
   "outputs": [],
   "source": [
    "mgsm = [\n",
    "    res[\"exact_match,flexible-extract\"] for name,res in results_json['results'].items() if \"mgsm_direct\" in name\n",
    "]"
   ]
  },
  {
   "cell_type": "code",
   "execution_count": 17,
   "id": "5cd0e212",
   "metadata": {},
   "outputs": [
    {
     "data": {
      "text/plain": [
       "[0.0, 0.0, 0.008, 0.0, 0.0, 0.0, 0.0, 0.0, 0.0, 0.0, 0.0, 0.0]"
      ]
     },
     "execution_count": 17,
     "metadata": {},
     "output_type": "execute_result"
    }
   ],
   "source": [
    "mgsm"
   ]
  },
  {
   "cell_type": "code",
   "execution_count": 18,
   "id": "65f1c0e0",
   "metadata": {},
   "outputs": [
    {
     "data": {
      "text/plain": [
       "0.0006666666666666666"
      ]
     },
     "execution_count": 18,
     "metadata": {},
     "output_type": "execute_result"
    }
   ],
   "source": [
    "sum(mgsm) / len(mgsm)"
   ]
  },
  {
   "cell_type": "code",
   "execution_count": null,
   "id": "789c2e15",
   "metadata": {},
   "outputs": [],
   "source": []
  }
 ],
 "metadata": {
  "kernelspec": {
   "display_name": "soar",
   "language": "python",
   "name": "python3"
  },
  "language_info": {
   "codemirror_mode": {
    "name": "ipython",
    "version": 3
   },
   "file_extension": ".py",
   "mimetype": "text/x-python",
   "name": "python",
   "nbconvert_exporter": "python",
   "pygments_lexer": "ipython3",
   "version": "3.13.0"
  }
 },
 "nbformat": 4,
 "nbformat_minor": 5
}
